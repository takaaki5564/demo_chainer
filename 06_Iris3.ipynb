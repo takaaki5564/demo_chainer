{
 "cells": [
  {
   "cell_type": "code",
   "execution_count": 1,
   "metadata": {
    "collapsed": true
   },
   "outputs": [],
   "source": [
    "## アヤメの種類を学習するCNNの実装\n",
    "## ロジスティック回帰(線形分割)をchainerで実装\n",
    "import numpy as np\n",
    "from chainer import cuda, Function, gradient_check,\\\n",
    "    Variable, optimizers, serializers, utils\n",
    "from chainer import Link, Chain, ChainList\n",
    "import chainer.functions as F\n",
    "import chainer.links as L"
   ]
  },
  {
   "cell_type": "code",
   "execution_count": 2,
   "metadata": {
    "collapsed": false
   },
   "outputs": [
    {
     "name": "stdout",
     "output_type": "stream",
     "text": [
      "shape of iris.data :  (150, 4)\n"
     ]
    }
   ],
   "source": [
    "from sklearn import datasets\n",
    "\n",
    "## アヤメに関する4次元x150個のデータ\n",
    "iris = datasets.load_iris()\n",
    "## 入力データ\n",
    "X = iris.data.astype(np.float32)\n",
    "## 訓練データ(出力を種類noから確率に変更)\n",
    "Y = iris.target.astype(np.int32)\n",
    "## 入力データサイズ\n",
    "N = Y.size\n",
    "\n",
    "print (\"shape of iris.data : \", iris.data.shape)"
   ]
  },
  {
   "cell_type": "code",
   "execution_count": 3,
   "metadata": {
    "collapsed": true
   },
   "outputs": [],
   "source": [
    "## アヤメは3種類に分類されるので訓練データ3N次元\n",
    "Y2 = np.zeros(3*N).reshape(N,3).astype(np.float32)\n",
    "for i in range(N):\n",
    "## 正解の種類は1.0, それ以外の2種類は0.0とする\n",
    "    Y2[i,Y[i]] = 1.0"
   ]
  },
  {
   "cell_type": "code",
   "execution_count": 4,
   "metadata": {
    "collapsed": false
   },
   "outputs": [],
   "source": [
    "## 奇数noデータを訓練データ,偶数noデータを検証用に設定\n",
    "index = np.arange(N)\n",
    "xtrain =  X[index[index % 2 != 0],:]\n",
    "ytrain = Y2[index[index % 2 != 0],:]\n",
    "xtest  =  X[index[index % 2 == 0],:]\n",
    "yans   =  Y[index[index % 2 == 0]]"
   ]
  },
  {
   "cell_type": "code",
   "execution_count": 5,
   "metadata": {
    "collapsed": true
   },
   "outputs": [],
   "source": [
    "## ロジスティック回帰モデルの定義\n",
    "class RogiModel(Chain):\n",
    "    def __init__(self):\n",
    "        super(RogiModel, self).__init__(\n",
    "            ## ロジスティック回帰：1つの線形作用のみ\n",
    "            l1 = L.Linear(4,3),\n",
    "        )\n",
    "    \n",
    "    def __call__(self, x, y):\n",
    "        return F.mean_squared_error(self.fwd(x), y)\n",
    "    \n",
    "    def fwd(self, x):\n",
    "        return F.softmax(self.l1(x))"
   ]
  },
  {
   "cell_type": "code",
   "execution_count": 6,
   "metadata": {
    "collapsed": true
   },
   "outputs": [],
   "source": [
    "## ロジスティック回帰モデルの初期化\n",
    "model = RogiModel()\n",
    "optimizer = optimizers.Adam()\n",
    "optimizer.setup(model)"
   ]
  },
  {
   "cell_type": "code",
   "execution_count": 7,
   "metadata": {
    "collapsed": false
   },
   "outputs": [],
   "source": [
    "## ミニバッチを作成して学習開始\n",
    "n = 74     # 訓練データ数\n",
    "bs = 25    # バッチサイズ\n",
    "\n",
    "for j in range(2000):\n",
    "    ## 入力データをランダムに入れ換えてバッチ化\n",
    "    sffindx = np.random.permutation(n)\n",
    "    for i in range(0, n, bs):\n",
    "        x = Variable(xtrain[sffindx[i:(i+bs) if (i+bs)<n else n]])\n",
    "        y = Variable(ytrain[sffindx[i:(i+bs) if (i+bs)<n else n]])\n",
    "        model.zerograds()\n",
    "        loss = model(x,y)\n",
    "        ## バッチサイズごとに誤差を積算する\n",
    "        loss.backward()\n",
    "        optimizer.update()"
   ]
  },
  {
   "cell_type": "code",
   "execution_count": 8,
   "metadata": {
    "collapsed": true
   },
   "outputs": [],
   "source": [
    "## 検証用データxtで学習結果をテスト\n",
    "xt = Variable(xtest, volatile='on')\n",
    "yy = model.fwd(xt)\n",
    "ans = yy.data\n",
    "nrow, ncol = ans.shape"
   ]
  },
  {
   "cell_type": "code",
   "execution_count": 10,
   "metadata": {
    "collapsed": false
   },
   "outputs": [
    {
     "name": "stdout",
     "output_type": "stream",
     "text": [
      "[ 0.89698702  0.07284725  0.03016579] 0\n",
      "[ 0.88775039  0.07865492  0.03359475] 0\n",
      "[ 0.89819521  0.07204527  0.02975949] 0\n",
      "[ 0.88533634  0.08013948  0.03452419] 0\n",
      "[ 0.86175078  0.09480416  0.04344503] 0\n",
      "[ 0.90106237  0.07027731  0.02866029] 0\n",
      "[ 0.87776858  0.08499432  0.0372371 ] 0\n",
      "[ 0.91624594  0.06045221  0.02330182] 0\n",
      "[ 0.90926552  0.06497484  0.02575963] 0\n",
      "[ 0.89770693  0.07250272  0.02979043] 0\n",
      "[ 0.88277662  0.08199131  0.03523196] 0\n",
      "[ 0.90792531  0.06571873  0.02635599] 0\n",
      "[ 0.85107321  0.10152733  0.04739946] 0\n",
      "[ 0.87821656  0.08477569  0.03700776] 0\n",
      "[ 0.89564437  0.07374116  0.03061442] 0\n",
      "[ 0.86448866  0.09326675  0.04224462] 0\n",
      "[ 0.90738761  0.06615687  0.02645559] 0\n",
      "[ 0.87688535  0.08555975  0.03755487] 0\n",
      "[ 0.90473938  0.06794052  0.02732016] 0\n",
      "[ 0.8747893   0.08671153  0.03849918] 0\n",
      "[ 0.89878696  0.07168563  0.02952742] 0\n",
      "[ 0.88261569  0.08178024  0.03560406] 0\n",
      "[ 0.87451887  0.08714495  0.03833615] 0\n",
      "[ 0.89558232  0.07374429  0.03067337] 0\n",
      "[ 0.89996606  0.07096536  0.02906863] 0\n",
      "[ 0.14135537  0.39011225  0.46853229] 2\n",
      "[ 0.10712621  0.3795552   0.5133186 ] 2\n",
      "[ 0.10744964  0.37715521  0.5153951 ] 2\n",
      "[ 0.11598672  0.38361093  0.50040233] 2\n",
      "[ 0.12110586  0.38327003  0.49562407] 2\n",
      "[ 0.14148739  0.3808907   0.47762188] 2\n",
      "[ 0.13278593  0.38217857  0.48503554] 2\n",
      "[ 0.24430925  0.37961361  0.37607715] 1\n",
      "[ 0.1018072   0.37435836  0.52383447] 2\n",
      "[ 0.08334377  0.36124051  0.55541569] 2\n",
      "[ 0.08980215  0.36897284  0.54122502] 2\n",
      "[ 0.07395245  0.35349333  0.57255417] 2\n",
      "[ 0.15136981  0.38849968  0.46013051] 2\n",
      "[ 0.10105785  0.37473577  0.52420634] 2\n",
      "[ 0.10711054  0.37699124  0.51589823] 2\n",
      "[ 0.14979966  0.3840625   0.46613789] 2\n",
      "[ 0.1721483   0.38718584  0.4406659 ] 2\n",
      "[ 0.09736837  0.37147003  0.53116161] 2\n",
      "[ 0.12010842  0.38404018  0.49585143] 2\n",
      "[ 0.15181835  0.38751346  0.46066812] 2\n",
      "[ 0.09552982  0.36865112  0.53581905] 2\n",
      "[ 0.14682902  0.38526326  0.4679077 ] 2\n",
      "[ 0.11793216  0.37915567  0.50291216] 2\n",
      "[ 0.13450818  0.38478422  0.48070753] 2\n",
      "[ 0.33266336  0.35407728  0.31325936] 1\n",
      "[ 0.0523439   0.32465428  0.62300175] 2\n",
      "[ 0.05656412  0.33285731  0.61057854] 2\n",
      "[ 0.05451385  0.32858777  0.61689842] 2\n",
      "[ 0.07035773  0.34610146  0.5835408 ] 2\n",
      "[ 0.05216886  0.32368886  0.62414223] 2\n",
      "[ 0.08041333  0.36226535  0.55732131] 2\n",
      "[ 0.06352352  0.34319162  0.5932849 ] 2\n",
      "[ 0.06012407  0.33679494  0.60308099] 2\n",
      "[ 0.06344871  0.34307185  0.59347945] 2\n",
      "[ 0.04414881  0.30641967  0.64943153] 2\n",
      "[ 0.06093616  0.34014097  0.59892285] 2\n",
      "[ 0.04729923  0.31412849  0.63857228] 2\n",
      "[ 0.06252764  0.34299311  0.59447926] 2\n",
      "[ 0.08155833  0.36103854  0.55740309] 2\n",
      "[ 0.05561032  0.3301138   0.61427587] 2\n",
      "[ 0.05356111  0.32732099  0.61911792] 2\n",
      "[ 0.05504848  0.32919428  0.61575729] 2\n",
      "[ 0.05562511  0.32844567  0.61592919] 2\n",
      "[ 0.0613468   0.34090158  0.59775162] 2\n",
      "[ 0.08457218  0.36415127  0.55127656] 2\n",
      "[ 0.05959876  0.337578    0.6028232 ] 2\n",
      "[ 0.06235223  0.33941483  0.59823298] 2\n",
      "[ 0.05959318  0.33813772  0.60226911] 2\n",
      "[ 0.06609674  0.34501502  0.58888829] 2\n",
      "[ 0.06671925  0.34831619  0.58496457] 2\n",
      "correct rate :  52 / 75 = 0.6933333333333334\n"
     ]
    }
   ],
   "source": [
    "ok = 0\n",
    "for i in range(nrow):\n",
    "    ## 確率が最大の結果をclsに出力\n",
    "    cls = np.argmax(ans[i,:])\n",
    "    print (ans[i,:], cls)\n",
    "    if cls == yans[i]:\n",
    "        ok += 1\n",
    "\n",
    "print (\"correct rate : \", ok, \"/\", nrow, \"=\", (ok*1.0)/nrow)"
   ]
  },
  {
   "cell_type": "code",
   "execution_count": null,
   "metadata": {
    "collapsed": true
   },
   "outputs": [],
   "source": []
  }
 ],
 "metadata": {
  "kernelspec": {
   "display_name": "Python 3",
   "language": "python",
   "name": "python3"
  },
  "language_info": {
   "codemirror_mode": {
    "name": "ipython",
    "version": 3
   },
   "file_extension": ".py",
   "mimetype": "text/x-python",
   "name": "python",
   "nbconvert_exporter": "python",
   "pygments_lexer": "ipython3",
   "version": "3.4.3"
  }
 },
 "nbformat": 4,
 "nbformat_minor": 1
}
