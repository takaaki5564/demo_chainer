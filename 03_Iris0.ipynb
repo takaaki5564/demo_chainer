{
 "cells": [
  {
   "cell_type": "code",
   "execution_count": 1,
   "metadata": {
    "collapsed": false
   },
   "outputs": [],
   "source": [
    "## アヤメの種類を学習するCNNの実装\n",
    "import numpy as np\n",
    "from chainer import cuda, Function, gradient_check,\\\n",
    "    Variable, optimizers, serializers, utils\n",
    "from chainer import Link, Chain, ChainList\n",
    "import chainer.functions as F\n",
    "import chainer.links as L"
   ]
  },
  {
   "cell_type": "code",
   "execution_count": 6,
   "metadata": {
    "collapsed": false
   },
   "outputs": [
    {
     "name": "stdout",
     "output_type": "stream",
     "text": [
      "shape of iris.data :  (150, 4)\n"
     ]
    }
   ],
   "source": [
    "from sklearn import datasets\n",
    "\n",
    "## アヤメに関する4次元x150個のデータ\n",
    "iris = datasets.load_iris()\n",
    "## 入力データ\n",
    "X = iris.data.astype(np.float32)\n",
    "## 訓練データ\n",
    "Y = iris.target\n",
    "## 入力データサイズ\n",
    "N = Y.size\n",
    "\n",
    "print (\"shape of iris.data : \", iris.data.shape)"
   ]
  },
  {
   "cell_type": "code",
   "execution_count": 10,
   "metadata": {
    "collapsed": false
   },
   "outputs": [],
   "source": [
    "## アヤメは3種類に分類されるので訓練データ3N次元\n",
    "Y2 = np.zeros(3*N).reshape(N,3).astype(np.float32)\n",
    "for i in range(N):\n",
    "## 正解の種類は1.0, それ以外の2種類は0.0とする\n",
    "    Y2[i,Y[i]] = 1.0"
   ]
  },
  {
   "cell_type": "code",
   "execution_count": 11,
   "metadata": {
    "collapsed": false
   },
   "outputs": [],
   "source": [
    "## 奇数noデータを訓練データ,偶数noデータを検証用に設定\n",
    "index = np.arange(N)\n",
    "xtrain =  X[index[index % 2 != 0],:]\n",
    "ytrain = Y2[index[index % 2 != 0],:]\n",
    "xtest  =  X[index[index % 2 == 0],:]\n",
    "yans   =  Y[index[index % 2 == 0]]"
   ]
  },
  {
   "cell_type": "code",
   "execution_count": 22,
   "metadata": {
    "collapsed": true
   },
   "outputs": [],
   "source": [
    "## 4x6x3のCNNモデル定義\n",
    "class IrisChain(Chain):\n",
    "    def __init__(self):\n",
    "        super(IrisChain, self).__init__(\n",
    "            l1 = L.Linear(4,6),\n",
    "            l2 = L.Linear(6,3),\n",
    "        )\n",
    "        \n",
    "    ## callで誤差関数を定義\n",
    "    def __call__(self, x, y):\n",
    "        return F.mean_squared_error(self.fwd(x), y)\n",
    "    \n",
    "    ## 順伝搬はcallと別に定義\n",
    "    def fwd(self, x):\n",
    "        h1 = F.sigmoid(self.l1(x))\n",
    "        h2 = self.l2(h1)\n",
    "        return h2"
   ]
  },
  {
   "cell_type": "code",
   "execution_count": 23,
   "metadata": {
    "collapsed": true
   },
   "outputs": [],
   "source": [
    "## CNNモデル初期化と最適化手法設定\n",
    "model = IrisChain()\n",
    "optimizer = optimizers.SGD()\n",
    "optimizer.setup(model)"
   ]
  },
  {
   "cell_type": "code",
   "execution_count": 24,
   "metadata": {
    "collapsed": false
   },
   "outputs": [],
   "source": [
    "## 学習開始\n",
    "for i in range(30000):\n",
    "    # 入力と訓練データの設定\n",
    "    x = Variable(xtrain)\n",
    "    y = Variable(ytrain)\n",
    "    # 重み初期化\n",
    "    model.zerograds()\n",
    "    # 順伝搬と誤差の算出\n",
    "    loss = model(x,y)\n",
    "    # 誤差逆伝搬\n",
    "    loss.backward()\n",
    "    # 重み更新\n",
    "    optimizer.update()"
   ]
  },
  {
   "cell_type": "code",
   "execution_count": 26,
   "metadata": {
    "collapsed": true
   },
   "outputs": [],
   "source": [
    "## 検証用データxtで学習結果をテスト\n",
    "xt = Variable(xtest, volatile='on')\n",
    "yy = model.fwd(xt)\n",
    "ans = yy.data\n",
    "nrow, ncol = ans.shape"
   ]
  },
  {
   "cell_type": "code",
   "execution_count": 30,
   "metadata": {
    "collapsed": false,
    "scrolled": true
   },
   "outputs": [
    {
     "name": "stdout",
     "output_type": "stream",
     "text": [
      "[ 1.01602805 -0.00400193 -0.03856876] 0\n",
      "[ 1.0044955  -0.0019684  -0.01057592] 0\n",
      "[ 1.01614082 -0.00619866 -0.03314176] 0\n",
      "[ 0.99742711 -0.00541528  0.01964891] 0\n",
      "[ 0.96559781  0.03594629  0.01611167] 0\n",
      "[ 1.02050376 -0.00182475 -0.05669808] 0\n",
      "[ 0.99282253  0.0223314  -0.02864659] 0\n",
      "[ 1.03419113 -0.00105162 -0.11647496] 0\n",
      "[ 1.03191936 -0.02605839 -0.04315707] 0\n",
      "[  1.01693463e+00   8.10071477e-04  -4.85111475e-02] 0\n",
      "[ 0.99800706  0.02412902 -0.04093555] 0\n",
      "[ 1.02649713 -0.02117307 -0.03619364] 0\n",
      "[ 0.9258306   0.10903303 -0.01522961] 0\n",
      "[ 0.9894256   0.00549339  0.01956594] 0\n",
      "[ 1.01587689 -0.00173928 -0.04389855] 0\n",
      "[ 0.96884984  0.04564975 -0.00666645] 0\n",
      "[ 1.02401876 -0.0016662  -0.06745526] 0\n",
      "[ 0.99008     0.02900611 -0.03229114] 0\n",
      "[ 1.02628624 -0.00428821 -0.07534775] 0\n",
      "[ 0.98508781  0.01173215  0.01363468] 0\n",
      "[ 1.01962113 -0.01821454 -0.02009991] 0\n",
      "[ 0.99354482  0.00303338  0.01151839] 0\n",
      "[ 0.96765625  0.03869574  0.01534763] 0\n",
      "[ 1.00969255  0.0032997  -0.03082433] 0\n",
      "[ 1.01869607 -0.0021673  -0.04962096] 0\n",
      "[-0.00486895  1.12020147 -0.05477777] 1\n",
      "[-0.01197665  0.91350722  0.14896682] 1\n",
      "[-0.01069344  0.82378703  0.21248946] 1\n",
      "[-0.00412545  0.73443091  0.30580103] 1\n",
      "[-0.01163728  1.04315579  0.01473212] 1\n",
      "[ 0.0010879   0.94277543  0.04351106] 1\n",
      "[-0.00690397  1.13978517 -0.11604992] 1\n",
      "[ 0.05704779  1.00905073 -0.03254116] 1\n",
      "[-0.00757513  0.55515927  0.45360649] 1\n",
      "[-0.01859891  0.59717631  0.3988241 ] 1\n",
      "[-0.00271208  0.32445201  0.66739279] 2\n",
      "[-0.01752231  0.51248264  0.49357224] 1\n",
      "[ 0.00179511  1.08027375 -0.03965038] 1\n",
      "[-0.01630164  0.9327051   0.12341158] 1\n",
      "[-0.00840311  0.69446492  0.32725021] 1\n",
      "[  3.83146852e-03   1.00928462e+00  -3.21209431e-04] 1\n",
      "[ 0.01450194  1.04976606 -0.03598544] 1\n",
      "[-0.00753137  0.47262195  0.52678406] 2\n",
      "[-0.00758522  0.92546964  0.12913801] 1\n",
      "[ 0.0029892   0.90500081  0.12214309] 1\n",
      "[-0.01740935  0.72267765  0.29765517] 1\n",
      "[ 0.00175563  1.00518382  0.01583126] 1\n",
      "[-0.00874452  0.79677272  0.22246911] 1\n",
      "[-0.00339877  0.88068753  0.14872076] 1\n",
      "[ 0.15089828  0.96816951 -0.09221283] 1\n",
      "[ 0.0187806  -0.34186205  1.32980883] 2\n",
      "[  4.28669155e-04   1.74717570e-03   9.81610894e-01] 2\n",
      "[ 0.00752161 -0.17721803  1.15051103] 2\n",
      "[-0.00609697  0.02437727  0.92026436] 2\n",
      "[-0.00579699  0.01546173  0.96141243] 2\n",
      "[-0.00175352  0.25261864  0.7376523 ] 2\n",
      "[ -8.67240131e-04   6.46267980e-02   9.13159966e-01] 2\n",
      "[ 0.01034678 -0.25066981  1.20578253] 2\n",
      "[-0.00528208  0.17426948  0.81696713] 2\n",
      "[ 0.01229534 -0.2911686   1.2903372 ] 2\n",
      "[ 0.00537079 -0.06824197  1.0434444 ] 2\n",
      "[ 0.00155424 -0.08659114  1.08256078] 2\n",
      "[ 0.00296881  0.01203267  0.97198021] 2\n",
      "[-0.00763849  0.34346196  0.64196932] 2\n",
      "[ 0.00326658 -0.12028463  1.08762121] 2\n",
      "[-0.00577498  0.11089824  0.8852458 ] 2\n",
      "[ 0.00575011 -0.16939481  1.13550174] 2\n",
      "[-0.01243716  0.19320773  0.79915959] 2\n",
      "[ 0.01218276 -0.20633073  1.1779151 ] 2\n",
      "[-0.00497069  0.314145    0.67223912] 2\n",
      "[ 0.00814151 -0.15587331  1.12347984] 2\n",
      "[-0.00200232 -0.01826586  0.97709358] 2\n",
      "[ 0.01174986 -0.20435686  1.17601073] 2\n",
      "[-0.00797264  0.14179449  0.82193005] 2\n",
      "[ 0.00898942 -0.12260075  1.09112358] 2\n",
      "correct rate :  73 / 75 = 0.9733333333333334\n"
     ]
    }
   ],
   "source": [
    "ok = 0\n",
    "for i in range(nrow):\n",
    "    ## 確率が最大の結果をclsに出力\n",
    "    cls = np.argmax(ans[i,:])\n",
    "    print (ans[i,:], cls)\n",
    "    if cls == yans[i]:\n",
    "        ok += 1\n",
    "\n",
    "print (\"correct rate : \", ok, \"/\", nrow, \"=\", (ok*1.0)/nrow)"
   ]
  },
  {
   "cell_type": "code",
   "execution_count": null,
   "metadata": {
    "collapsed": true
   },
   "outputs": [],
   "source": []
  }
 ],
 "metadata": {
  "kernelspec": {
   "display_name": "Python 3",
   "language": "python",
   "name": "python3"
  },
  "language_info": {
   "codemirror_mode": {
    "name": "ipython",
    "version": 3
   },
   "file_extension": ".py",
   "mimetype": "text/x-python",
   "name": "python",
   "nbconvert_exporter": "python",
   "pygments_lexer": "ipython3",
   "version": "3.4.3"
  }
 },
 "nbformat": 4,
 "nbformat_minor": 1
}
