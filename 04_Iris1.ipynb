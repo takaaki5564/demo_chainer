{
 "cells": [
  {
   "cell_type": "code",
   "execution_count": 1,
   "metadata": {
    "collapsed": true
   },
   "outputs": [],
   "source": [
    "## アヤメの種類を学習するCNNの実装(2)\n",
    "## ミニバッチを使用した学習\n",
    "import numpy as np\n",
    "from chainer import cuda, Function, gradient_check,\\\n",
    "    Variable, optimizers, serializers, utils\n",
    "from chainer import Link, Chain, ChainList\n",
    "import chainer.functions as F\n",
    "import chainer.links as L"
   ]
  },
  {
   "cell_type": "code",
   "execution_count": 2,
   "metadata": {
    "collapsed": false
   },
   "outputs": [
    {
     "name": "stdout",
     "output_type": "stream",
     "text": [
      "shape of iris.data :  (150, 4)\n"
     ]
    }
   ],
   "source": [
    "from sklearn import datasets\n",
    "\n",
    "## アヤメに関する4次元x150個のデータ\n",
    "iris = datasets.load_iris()\n",
    "## 入力データ\n",
    "X = iris.data.astype(np.float32)\n",
    "## 訓練データ\n",
    "Y = iris.target\n",
    "## 入力データサイズ\n",
    "N = Y.size\n",
    "\n",
    "print (\"shape of iris.data : \", iris.data.shape)"
   ]
  },
  {
   "cell_type": "code",
   "execution_count": 3,
   "metadata": {
    "collapsed": true
   },
   "outputs": [],
   "source": [
    "## アヤメは3種類に分類されるので訓練データ3N次元\n",
    "Y2 = np.zeros(3*N).reshape(N,3).astype(np.float32)\n",
    "for i in range(N):\n",
    "## 正解の種類は1.0, それ以外の2種類は0.0とする\n",
    "    Y2[i,Y[i]] = 1.0"
   ]
  },
  {
   "cell_type": "code",
   "execution_count": 4,
   "metadata": {
    "collapsed": true
   },
   "outputs": [],
   "source": [
    "## 奇数noデータを訓練データ,偶数noデータを検証用に設定\n",
    "index = np.arange(N)\n",
    "xtrain =  X[index[index % 2 != 0],:]\n",
    "ytrain = Y2[index[index % 2 != 0],:]\n",
    "xtest  =  X[index[index % 2 == 0],:]\n",
    "yans   =  Y[index[index % 2 == 0]]"
   ]
  },
  {
   "cell_type": "code",
   "execution_count": 6,
   "metadata": {
    "collapsed": true
   },
   "outputs": [],
   "source": [
    "## 4x6x3のCNNモデル定義\n",
    "class IrisChain(Chain):\n",
    "    def __init__(self):\n",
    "        super(IrisChain, self).__init__(\n",
    "            l1 = L.Linear(4,6),\n",
    "            l2 = L.Linear(6,3),\n",
    "        )\n",
    "        \n",
    "    ## callで誤差関数を定義\n",
    "    def __call__(self, x, y):\n",
    "        return F.mean_squared_error(self.fwd(x), y)\n",
    "    \n",
    "    ## 順伝搬はcallと別に定義\n",
    "    def fwd(self, x):\n",
    "        h1 = F.sigmoid(self.l1(x))\n",
    "        h2 = self.l2(h1)\n",
    "        return h2"
   ]
  },
  {
   "cell_type": "code",
   "execution_count": 7,
   "metadata": {
    "collapsed": true
   },
   "outputs": [],
   "source": [
    "## CNNモデル初期化と最適化手法設定\n",
    "model = IrisChain()\n",
    "optimizer = optimizers.SGD()\n",
    "optimizer.setup(model)"
   ]
  },
  {
   "cell_type": "code",
   "execution_count": 8,
   "metadata": {
    "collapsed": true
   },
   "outputs": [],
   "source": [
    "## ミニバッチを作成して学習開始\n",
    "n = 74     # 訓練データ数\n",
    "bs = 25    # バッチサイズ"
   ]
  },
  {
   "cell_type": "code",
   "execution_count": 9,
   "metadata": {
    "collapsed": true
   },
   "outputs": [],
   "source": [
    "for j in range(5000):\n",
    "    ## 入力データをランダムに入れ換えてバッチ化\n",
    "    sffindx = np.random.permutation(n)\n",
    "    for i in range(0, n, bs):\n",
    "        x = Variable(xtrain[sffindx[i:(i+bs) if (i+bs)<n else n]])\n",
    "        y = Variable(ytrain[sffindx[i:(i+bs) if (i+bs)<n else n]])\n",
    "        model.zerograds()\n",
    "        loss = model(x,y)\n",
    "        loss.backward()\n",
    "        optimizer.update()"
   ]
  },
  {
   "cell_type": "code",
   "execution_count": 10,
   "metadata": {
    "collapsed": false
   },
   "outputs": [
    {
     "name": "stdout",
     "output_type": "stream",
     "text": [
      "[ 1.01045752 -0.0187353  -0.00392096] 0\n",
      "[ 0.97666955  0.01025237 -0.02512817] 0\n",
      "[  1.01678991e+00  -2.64389515e-02   8.56831670e-04] 0\n",
      "[ 0.97331762  0.02611993 -0.02175015] 0\n",
      "[ 0.90197885  0.1086915  -0.06505185] 0\n",
      "[ 1.02685308 -0.03031245  0.00748865] 0\n",
      "[ 0.94491345  0.05865102 -0.0465225 ] 0\n",
      "[ 1.08462584 -0.11897066  0.04236497] 0\n",
      "[ 1.05860138 -0.08228382  0.02918707] 0\n",
      "[ 1.0138644   0.002158    0.00391626] 0\n",
      "[ 0.96111649  0.07158832 -0.03012744] 0\n",
      "[ 1.04670787 -0.09766026  0.01790287] 0\n",
      "[ 0.87371475  0.21247302 -0.07298727] 0\n",
      "[ 0.94984406  0.07832043 -0.03146571] 0\n",
      "[ 1.00375772 -0.01071262 -0.00895411] 0\n",
      "[ 0.90971684  0.12748937 -0.05955537] 0\n",
      "[ 1.05888844 -0.07071184  0.02845153] 0\n",
      "[ 0.94355226  0.07243766 -0.04574585] 0\n",
      "[ 1.03397036 -0.05517808  0.00793619] 0\n",
      "[ 0.93680722  0.05465029 -0.04700104] 0\n",
      "[  1.01596284e+00  -3.37509364e-02   6.29022717e-04] 0\n",
      "[ 0.96204239  0.02558042 -0.03192686] 0\n",
      "[ 0.93777716  0.12653048 -0.03201178] 0\n",
      "[  1.01053238e+00  -3.86044383e-04   4.18603420e-04] 0\n",
      "[ 1.02350128 -0.02593857  0.00574996] 0\n",
      "[ 0.21091431  0.87923515  0.0298204 ] 1\n",
      "[ 0.13502586  0.74361575  0.20525436] 1\n",
      "[ 0.08471124  0.66579175  0.29441619] 1\n",
      "[ 0.14970219  0.73629791  0.20451932] 1\n",
      "[ 0.15659511  0.79379833  0.12784888] 1\n",
      "[ 0.07228731  0.66138208  0.21947508] 1\n",
      "[ 0.11012489  0.75645053  0.14195703] 1\n",
      "[ 0.25688007  0.86576045 -0.03398947] 1\n",
      "[ 0.07923813  0.6060558   0.34830856] 1\n",
      "[-0.07705587  0.41283172  0.6055209 ] 2\n",
      "[ 0.03263752  0.50330514  0.4953199 ] 1\n",
      "[-0.06068155  0.39465719  0.6266585 ] 2\n",
      "[ 0.19081052  0.84339416  0.05433263] 1\n",
      "[ 0.09422912  0.69177502  0.26549804] 1\n",
      "[ 0.08777556  0.64392394  0.31000239] 1\n",
      "[ 0.13729915  0.75578463  0.12653752] 1\n",
      "[ 0.19186369  0.82791507  0.04500991] 1\n",
      "[ 0.06208226  0.56728083  0.3918888 ] 1\n",
      "[ 0.15349025  0.77330458  0.16261987] 1\n",
      "[ 0.19049084  0.80511236  0.0818831 ] 1\n",
      "[ 0.05508271  0.59364343  0.34715116] 1\n",
      "[ 0.15168035  0.77680492  0.11676042] 1\n",
      "[ 0.10356012  0.67932165  0.24518739] 1\n",
      "[ 0.15878595  0.76426411  0.13948263] 1\n",
      "[ 0.29424903  0.82394767 -0.0743797 ] 1\n",
      "[-0.20209417 -0.00199512  1.1373955 ] 2\n",
      "[-0.15544072  0.14461271  0.96362621] 2\n",
      "[-0.18643343  0.06555198  1.05129719] 2\n",
      "[-0.13918933  0.20382206  0.83464724] 2\n",
      "[-0.20492136  0.0789593   1.02069497] 2\n",
      "[-0.01592553  0.42006177  0.61738473] 2\n",
      "[-0.12280521  0.21928744  0.87179297] 2\n",
      "[-0.20847034  0.053721    1.0683955 ] 2\n",
      "[-0.08625138  0.27662933  0.78213865] 2\n",
      "[-0.2700544  -0.06799756  1.21764052] 2\n",
      "[-0.13764772  0.16777717  0.94151133] 2\n",
      "[-0.21953514  0.01361306  1.11541855] 2\n",
      "[-0.09512696  0.23513512  0.84714609] 2\n",
      "[-0.04219764  0.40310401  0.62702644] 2\n",
      "[-0.19059971  0.0809616   1.02916646] 2\n",
      "[-0.16788346  0.13697518  0.96804112] 2\n",
      "[-0.20315588  0.05800198  1.06124008] 2\n",
      "[-0.13650459  0.1870573   0.85688823] 2\n",
      "[-0.13807866  0.13449632  0.97480279] 2\n",
      "[-0.00855702  0.44226444  0.57346201] 2\n",
      "[-0.16981947  0.1112247   1.01177776] 2\n",
      "[-0.15522325  0.16012572  0.91670984] 2\n",
      "[-0.16093507  0.10749136  1.01826942] 2\n",
      "[-0.15479696  0.21019526  0.87056547] 2\n",
      "[-0.10144627  0.21229003  0.87608665] 2\n",
      "correct rate :  73 / 75 = 0.9733333333333334\n"
     ]
    }
   ],
   "source": [
    "## 検証用データxtで学習結果をテスト\n",
    "xt = Variable(xtest, volatile='on')\n",
    "yy = model.fwd(xt)\n",
    "ans = yy.data\n",
    "nrow, ncol = ans.shape\n",
    "\n",
    "ok = 0\n",
    "for i in range(nrow):\n",
    "    ## 確率が最大の結果をclsに出力\n",
    "    cls = np.argmax(ans[i,:])\n",
    "    print (ans[i,:], cls)\n",
    "    if cls == yans[i]:\n",
    "        ok += 1\n",
    "\n",
    "print (\"correct rate : \", ok, \"/\", nrow, \"=\", (ok*1.0)/nrow)"
   ]
  },
  {
   "cell_type": "code",
   "execution_count": null,
   "metadata": {
    "collapsed": true
   },
   "outputs": [],
   "source": []
  }
 ],
 "metadata": {
  "kernelspec": {
   "display_name": "Python 3",
   "language": "python",
   "name": "python3"
  },
  "language_info": {
   "codemirror_mode": {
    "name": "ipython",
    "version": 3
   },
   "file_extension": ".py",
   "mimetype": "text/x-python",
   "name": "python",
   "nbconvert_exporter": "python",
   "pygments_lexer": "ipython3",
   "version": "3.4.3"
  }
 },
 "nbformat": 4,
 "nbformat_minor": 1
}
