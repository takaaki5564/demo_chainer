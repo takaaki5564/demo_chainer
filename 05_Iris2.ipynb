{
 "cells": [
  {
   "cell_type": "code",
   "execution_count": 2,
   "metadata": {
    "collapsed": true
   },
   "outputs": [],
   "source": [
    "## アヤメの種類を学習するCNNの実装\n",
    "## 誤差をバッチごと累積して重みを更新する\n",
    "import numpy as np\n",
    "from chainer import cuda, Function, gradient_check,\\\n",
    "    Variable, optimizers, serializers, utils\n",
    "from chainer import Link, Chain, ChainList\n",
    "import chainer.functions as F\n",
    "import chainer.links as L"
   ]
  },
  {
   "cell_type": "code",
   "execution_count": 3,
   "metadata": {
    "collapsed": false
   },
   "outputs": [
    {
     "name": "stdout",
     "output_type": "stream",
     "text": [
      "shape of iris.data :  (150, 4)\n"
     ]
    }
   ],
   "source": [
    "from sklearn import datasets\n",
    "\n",
    "## アヤメに関する4次元x150個のデータ\n",
    "iris = datasets.load_iris()\n",
    "## 入力データ\n",
    "X = iris.data.astype(np.float32)\n",
    "## 訓練データ\n",
    "Y = iris.target\n",
    "## 入力データサイズ\n",
    "N = Y.size\n",
    "\n",
    "print (\"shape of iris.data : \", iris.data.shape)"
   ]
  },
  {
   "cell_type": "code",
   "execution_count": 4,
   "metadata": {
    "collapsed": true
   },
   "outputs": [],
   "source": [
    "## アヤメは3種類に分類されるので訓練データ3N次元\n",
    "Y2 = np.zeros(3*N).reshape(N,3).astype(np.float32)\n",
    "for i in range(N):\n",
    "## 正解の種類は1.0, それ以外の2種類は0.0とする\n",
    "    Y2[i,Y[i]] = 1.0"
   ]
  },
  {
   "cell_type": "code",
   "execution_count": 5,
   "metadata": {
    "collapsed": true
   },
   "outputs": [],
   "source": [
    "## 奇数noデータを訓練データ,偶数noデータを検証用に設定\n",
    "index = np.arange(N)\n",
    "xtrain =  X[index[index % 2 != 0],:]\n",
    "ytrain = Y2[index[index % 2 != 0],:]\n",
    "xtest  =  X[index[index % 2 == 0],:]\n",
    "yans   =  Y[index[index % 2 == 0]]"
   ]
  },
  {
   "cell_type": "code",
   "execution_count": 6,
   "metadata": {
    "collapsed": true
   },
   "outputs": [],
   "source": [
    "## 4x6x3のCNNモデル定義\n",
    "class IrisChain(Chain):\n",
    "    def __init__(self):\n",
    "        super(IrisChain, self).__init__(\n",
    "            l1 = L.Linear(4,6),\n",
    "            l2 = L.Linear(6,3),\n",
    "        )\n",
    "        \n",
    "    ## callで誤差関数を定義\n",
    "    def __call__(self, x, y):\n",
    "        return F.mean_squared_error(self.fwd(x), y)\n",
    "    \n",
    "    ## 順伝搬はcallと別に定義\n",
    "    def fwd(self, x):\n",
    "        h1 = F.sigmoid(self.l1(x))\n",
    "        h2 = self.l2(h1)\n",
    "        return h2"
   ]
  },
  {
   "cell_type": "code",
   "execution_count": 7,
   "metadata": {
    "collapsed": true
   },
   "outputs": [],
   "source": [
    "## CNNモデル初期化と最適化手法設定\n",
    "model = IrisChain()\n",
    "optimizer = optimizers.SGD()\n",
    "optimizer.setup(model)"
   ]
  },
  {
   "cell_type": "code",
   "execution_count": 10,
   "metadata": {
    "collapsed": true
   },
   "outputs": [],
   "source": [
    "## ミニバッチを作成して学習開始\n",
    "n = 74     # 訓練データ数\n",
    "bs = 25    # バッチサイズ\n",
    "for j in range(5000):\n",
    "    accum_loss = None\n",
    "    ## 入力データをランダムに入れ換えてバッチ化\n",
    "    sffindx = np.random.permutation(n)\n",
    "    for i in range(0, n, bs):\n",
    "        x = Variable(xtrain[sffindx[i:(i+bs) if (i+bs)<n else n]])\n",
    "        y = Variable(ytrain[sffindx[i:(i+bs) if (i+bs)<n else n]])\n",
    "        model.zerograds()\n",
    "        loss = model(x,y)\n",
    "        ## バッチサイズごとに誤差を積算する\n",
    "        accum_loss = loss if accum_loss is None else accum_loss + loss\n",
    "    loss.backward()\n",
    "    optimizer.update()"
   ]
  },
  {
   "cell_type": "code",
   "execution_count": 11,
   "metadata": {
    "collapsed": true
   },
   "outputs": [],
   "source": [
    "## 検証用データxtで学習結果をテスト\n",
    "xt = Variable(xtest, volatile='on')\n",
    "yy = model.fwd(xt)\n",
    "ans = yy.data\n",
    "nrow, ncol = ans.shape"
   ]
  },
  {
   "cell_type": "code",
   "execution_count": 12,
   "metadata": {
    "collapsed": false
   },
   "outputs": [
    {
     "name": "stdout",
     "output_type": "stream",
     "text": [
      "[ 1.01038098 -0.02295017  0.01524439] 0\n",
      "[ 0.99811667  0.00662816 -0.00486591] 0\n",
      "[ 1.01528001 -0.01880449  0.01912084] 0\n",
      "[ 1.00482774  0.01505142  0.0036808 ] 0\n",
      "[ 0.96302927  0.05005854 -0.03422555] 0\n",
      "[ 1.01507831 -0.0420292   0.02631649] 0\n",
      "[ 0.97660446  0.00554806 -0.01784101] 0\n",
      "[ 1.03194702 -0.04493427  0.03923669] 0\n",
      "[ 1.03034925 -0.01445496  0.03023872] 0\n",
      "[ 1.01104689 -0.05175972  0.02958629] 0\n",
      "[ 0.98694873 -0.03172249  0.00794801] 0\n",
      "[ 1.02954769  0.01639771  0.01592061] 0\n",
      "[ 0.96446419  0.01931661 -0.00645229] 0\n",
      "[ 0.99246478  0.00618362  0.00253645] 0\n",
      "[ 1.00509357 -0.02639735  0.01103058] 0\n",
      "[ 0.96622992  0.02182168 -0.01847574] 0\n",
      "[ 1.02928793 -0.03819835  0.0401285 ] 0\n",
      "[ 0.97735029 -0.00233483 -0.01153341] 0\n",
      "[ 1.01377583 -0.0414952   0.0193471 ] 0\n",
      "[ 0.98201042  0.03456974 -0.022751  ] 0\n",
      "[ 1.01511598 -0.00643277  0.01290843] 0\n",
      "[ 0.9973712   0.02349782 -0.0080094 ] 0\n",
      "[ 0.99961472 -0.0105474   0.02087966] 0\n",
      "[ 1.01583004 -0.02929157  0.02732   ] 0\n",
      "[ 1.01526022 -0.03695452  0.02548078] 0\n",
      "[ 0.01573944  1.07178843 -0.05647132] 1\n",
      "[ 0.00210935  0.86374462  0.17003328] 1\n",
      "[ 0.00338894  0.78666854  0.26200134] 1\n",
      "[ 0.00686151  0.78202403  0.19208407] 1\n",
      "[ 0.00204456  0.98425364  0.05435228] 1\n",
      "[-0.00781232  0.97325754  0.07571861] 1\n",
      "[-0.00572383  1.04658818  0.03308922] 1\n",
      "[ 0.1232821   1.02328515 -0.12995866] 1\n",
      "[-0.01205957  0.62805033  0.34804979] 1\n",
      "[-0.01343298  0.53348017  0.54335862] 2\n",
      "[-0.00819021  0.41349095  0.55216765] 2\n",
      "[-0.01904607  0.43848193  0.61466897] 2\n",
      "[ 0.02105755  1.05414665 -0.03864983] 1\n",
      "[-0.00098109  0.83898532  0.225099  ] 1\n",
      "[-0.00236219  0.71992528  0.28945926] 1\n",
      "[ 0.01060814  1.0158751   0.01075345] 1\n",
      "[ 0.03595734  1.05714476 -0.06403443] 1\n",
      "[-0.01919097  0.56804162  0.3994377 ] 1\n",
      "[ 0.00838697  0.90653145  0.11520606] 1\n",
      "[ 0.03058749  0.94880259  0.00829509] 1\n",
      "[-0.03115332  0.73703063  0.28884107] 1\n",
      "[ 0.01436317  1.00443089  0.01712558] 1\n",
      "[-0.00448155  0.82830846  0.18333933] 1\n",
      "[ 0.01115793  0.91735768  0.06838334] 1\n",
      "[ 0.20472473  0.9973346  -0.18380281] 1\n",
      "[-0.01257616 -0.21813981  1.21497142] 2\n",
      "[-0.00478864 -0.06955007  1.06297743] 2\n",
      "[-0.01593554 -0.1517778   1.14264584] 2\n",
      "[-0.04538542  0.17476904  0.8384223 ] 2\n",
      "[-0.03511232 -0.04589099  1.05556262] 2\n",
      "[ 0.00119776  0.2843346   0.70500171] 2\n",
      "[ -9.00506973e-04   2.97547281e-02   9.69708323e-01] 2\n",
      "[-0.00944448 -0.13040876  1.13689542] 2\n",
      "[-0.01946944  0.14082831  0.85724419] 2\n",
      "[-0.03701013 -0.3117238   1.27675009] 2\n",
      "[ 0.0036723  -0.07796085  1.06319511] 2\n",
      "[-0.02382946 -0.19485596  1.18181789] 2\n",
      "[-0.0079385   0.01701367  0.95866454] 2\n",
      "[-0.0047878   0.34890276  0.67046529] 2\n",
      "[-0.01942432 -0.11017334  1.10735142] 2\n",
      "[-0.01114148 -0.0202679   1.02823436] 2\n",
      "[-0.01666492 -0.14605865  1.14165103] 2\n",
      "[-0.06082839  0.16072583  0.86904693] 2\n",
      "[-0.00284213 -0.09780072  1.07454503] 2\n",
      "[-0.00800526  0.36473751  0.62758064] 2\n",
      "[ 0.0035724  -0.13727534  1.12601173] 2\n",
      "[-0.0279817   0.03523314  0.97093165] 2\n",
      "[ 0.00642419 -0.15719035  1.14001274] 2\n",
      "[-0.01319593  0.11688301  0.90541971] 2\n",
      "[-0.00370139 -0.00717497  0.97626102] 2\n",
      "correct rate :  72 / 75 = 0.96\n"
     ]
    }
   ],
   "source": [
    "ok = 0\n",
    "for i in range(nrow):\n",
    "    ## 確率が最大の結果をclsに出力\n",
    "    cls = np.argmax(ans[i,:])\n",
    "    print (ans[i,:], cls)\n",
    "    if cls == yans[i]:\n",
    "        ok += 1\n",
    "\n",
    "print (\"correct rate : \", ok, \"/\", nrow, \"=\", (ok*1.0)/nrow)"
   ]
  },
  {
   "cell_type": "code",
   "execution_count": null,
   "metadata": {
    "collapsed": true
   },
   "outputs": [],
   "source": []
  }
 ],
 "metadata": {
  "kernelspec": {
   "display_name": "Python 3",
   "language": "python",
   "name": "python3"
  },
  "language_info": {
   "codemirror_mode": {
    "name": "ipython",
    "version": 3
   },
   "file_extension": ".py",
   "mimetype": "text/x-python",
   "name": "python",
   "nbconvert_exporter": "python",
   "pygments_lexer": "ipython3",
   "version": "3.4.3"
  }
 },
 "nbformat": 4,
 "nbformat_minor": 1
}
